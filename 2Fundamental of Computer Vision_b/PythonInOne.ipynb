{
 "cells": [
  {
   "cell_type": "code",
   "execution_count": null,
   "metadata": {
    "collapsed": true
   },
   "outputs": [],
   "source": [
    "import os   #导入模块os.py\n",
    "import io\n",
    "import matplotlib   #这种导入方式，调用函数时候使用matplotlib.函数名()\n",
    "import numpy as np #导入numpy.py，并且用np这个名字来代替numpy，更简洁\n",
    "import matplotlib.image as mpimg    #调用函数: mpimg.函数名()\n",
    "import matplotlib.pyplot as plt\n",
    "\n",
    "from scipy.ndimage import filters #在scipy.ndimage总仅载入filters模块\n",
    "from IPython.display import Image #函数调用：display.子功能()\n"
   ]
  },
  {
   "cell_type": "code",
   "execution_count": null,
   "metadata": {
    "collapsed": true
   },
   "outputs": [],
   "source": [
    "def main(): #定义一个函数，名为main，不带输入参数；声明和调用的位置随意放置\n",
    "    simpleCal() #调用函数，句末没有标点表示结束。声明和实现都在后面\n",
    "    '''函数内部第一层级的语句这一行要比define缩进4个空格！或者一个Tab。\n",
    "    python语言特点之一：使用缩进来代表某个功能的作用范围，不像C中用”{}“'''\n",
    "\n",
    "    #List in Python\n",
    "    la,lb = [1,2,3], [\"苹果\", \"banana\"] #列表类型\n",
    "    la,lb = lb,la #python 赋值非常灵活，不需要中间变量\n",
    "    new_lb = [i+2 for i in lb]  #增强型赋值方法 list comprehension\n",
    "    add = lambda x,y:x+y    #用lamda函数来定义一个新的add函数\n",
    "    lc = add(la,lb)     #【1,2,3，苹果，banana】\n",
    "    print(\"测试add函数\",lc)\n",
    "    ld = lc #我想用ld来保存lc当前的值，但是。。。。\n",
    "    lf = []\n",
    "    lf.extend(lc)   #lf能否留住lc呢\n",
    "    str_tmp1 = \"fruit\"\n",
    "    lc.extend(str_tmp1)  #等价于lc[len(lc):] = str_tmp1 把字符串打散添加到list末尾\n",
    "    lc.append(str_tmp1) #把字符串作为整体添加到最后\n",
    "    for i in lc:    #i表示列表中每一个元素;注意结尾的冒号！\n",
    "        print(\"show me the list:\"+str(i))\n",
    "    print(\"小心使用赋值语句\",lf,ld)\n",
    "\n",
    "    new_lc = []\n",
    "    for i in range(len(lc)): #别忘了冒号，冒号，冒号\n",
    "        new_lc.append((i,lc[i]))\n",
    "    print(\"显示list的编号以及内容：\",new_lc)\n",
    "\n",
    "    #class in Python\n",
    "    id = user(\"Alvin\")\n",
    "    id.showname()\n",
    "\n",
    "    #tuple in Python 元组:两个list组队\n",
    "    t_new_lc = list(enumerate(lc, start = 1))\n",
    "    print(t_new_lc) #跟上面的new_lc内容一致\n",
    "    print(type(t_new_lc[2]))\n",
    "    print(t_new_lc[1])\n",
    "\n",
    "    #dic in Python 字典：value和属性的组合\n",
    "    d = {'Lilei': 30, 'Hanmeimei': 29, 'Lily': 28}\n",
    "    for name, age in d.items():\n",
    "        print ('%s is %d years old.' % (name, age))\n",
    "\n",
    "    #numpy\n",
    "    x = np.array([[1,2,3], [4,5,6], [7,8,9], [10, 11, 12]])\n",
    "    v = np.array([1, 0, 1])\n",
    "    y = x+v   # broadcasting方式相加\n",
    "    print(y)\n",
    "\n",
    "#"
   ]
  },
  {
   "cell_type": "code",
   "execution_count": null,
   "metadata": {
    "collapsed": true
   },
   "outputs": [],
   "source": [
    "\n",
    "#定义一个函数，可以有返回值，也可以没有返回值。\n",
    "def simpleCal():\n",
    "    print(\"首先学习\"+\"数值型的基本运算+字符串\\\n",
    "    ,bool类型，以及print的用法\")   #行末尾的\\是“续行符号\n",
    "    x = 5\n",
    "    print(type(x)) # Prints \"<type 'int'>\"\n",
    "    print(\"x is %s, x+1 is %d, x*2=%d, x的平方是：%d\"%(x,x+1,x*2,x**2))\n",
    "    if (x <= 5)==True and False: #bool类型不但支持!=, ==,等还支持and or not的表达\n",
    "        x+=1 #自加 不能用x++或者x--\n",
    "        x*=2 #自乘\n",
    "    elif x>5:   #别忘记条件后面的冒号，初学者很容易犯错。\n",
    "        x/=2\n",
    "    x-=2\n",
    "    print (\"现在的X值为%s\"%x)\n",
    "    y = 3.0 #ypte is <float>\n",
    "    print (\"x/2 is:%s, y/2 is:%.3f\"%(x/2, y/2)) #注意在python2.x中这两个结果不同\n",
    "    print(type(x/2)) #int类型的x除法之后是float\n",
    "    str_break = \"we will learn something about string!\"\n",
    "    str_tmp1 = \"follow me\"\n",
    "    str_tmp2 = '%r %s %d' % (str_tmp1, \"in\", 2016)  # 格式化字符串\n",
    "    print(str_break.capitalize()+\"\\r\"+\"\\r\"+str_tmp2.upper()+\"---\"*20)\n",
    "    #Python的字符有高级语言的所有常用功能，而且字符可以做乘法！\n"
   ]
  },
  {
   "cell_type": "code",
   "execution_count": null,
   "metadata": {
    "collapsed": true
   },
   "outputs": [],
   "source": [
    "\n",
    "#定义一个类，名字为user\n",
    "class user:\n",
    "    def __init__(self, name):   #构造函数\n",
    "        self.name = name\n",
    "        print(\"用户名设置完毕。\")\n",
    "    def showname(self):         #公有成员函数\n",
    "        print(\"Current user's name is:\", self.name)\n"
   ]
  },
  {
   "cell_type": "code",
   "execution_count": 7,
   "metadata": {
    "collapsed": false
   },
   "outputs": [
    {
     "name": "stdout",
     "output_type": "stream",
     "text": [
      "Welcome to Julyedu!\n",
      "首先学习数值型的基本运算+字符串    ,bool类型，以及print的用法\n",
      "<class 'int'>\n",
      "x is 5, x+1 is 6, x*2=10, x的平方是：25\n",
      "现在的X值为3\n",
      "x/2 is:1.5, y/2 is:1.500\n",
      "<class 'float'>\n",
      "We will learn something about string!\r",
      "\r",
      "'FOLLOW ME' IN 2016------------------------------------------------------------\n",
      "测试add函数 ['苹果', 'banana', 1, 2, 3]\n",
      "show me the list:苹果\n",
      "show me the list:banana\n",
      "show me the list:1\n",
      "show me the list:2\n",
      "show me the list:3\n",
      "show me the list:f\n",
      "show me the list:r\n",
      "show me the list:u\n",
      "show me the list:i\n",
      "show me the list:t\n",
      "show me the list:fruit\n",
      "小心使用赋值语句 ['苹果', 'banana', 1, 2, 3] ['苹果', 'banana', 1, 2, 3, 'f', 'r', 'u', 'i', 't', 'fruit']\n",
      "显示list的编号以及内容： [(0, '苹果'), (1, 'banana'), (2, 1), (3, 2), (4, 3), (5, 'f'), (6, 'r'), (7, 'u'), (8, 'i'), (9, 't'), (10, 'fruit')]\n",
      "用户名设置完毕。\n",
      "Current user's name is: Alvin\n",
      "[(1, '苹果'), (2, 'banana'), (3, 1), (4, 2), (5, 3), (6, 'f'), (7, 'r'), (8, 'u'), (9, 'i'), (10, 't'), (11, 'fruit')]\n",
      "<class 'tuple'>\n",
      "(2, 'banana')\n",
      "Lilei is 30 years old.\n",
      "Hanmeimei is 29 years old.\n",
      "Lily is 28 years old.\n",
      "[[ 2  2  4]\n",
      " [ 5  5  7]\n",
      " [ 8  8 10]\n",
      " [11 11 13]]\n"
     ]
    }
   ],
   "source": [
    "\n",
    "'''一般在脚本最后调用主函数main（）；当我们直接运行当前脚本的时候\n",
    "__name__相当于__main__。当这个脚本被当作模块import的时候，并不执行main()\n",
    "'''\n",
    "if __name__ == '__main__':\n",
    "    print(\"Welcome to Julyedu!\")\n",
    "    # print('Welcome to Julyedu!')\n",
    "    # 上面两句都正确，注意单引号的时候内部的符号要转义.\n",
    "    main()\n",
    "\n",
    "    #展示一些库\n",
    "    img = np.zeros((100, 100))\n",
    "    img[np.random.randint(0, 100, 500), np.random.randint(0, 100, 500)] = 255\n",
    "    img2 = filters.gaussian_filter(img, 4, order=2)\n",
    "    buf = io.BytesIO()\n",
    "    matplotlib.image.imsave(buf, img2, cmap=\"gray\")\n",
    "    plt.plot([1,2,3,4])\n",
    "    plt.ylabel('some numbers')\n",
    "    plt.show()\n",
    "    Image(buf.getvalue()) #"
   ]
  },
  {
   "cell_type": "code",
   "execution_count": null,
   "metadata": {
    "collapsed": true
   },
   "outputs": [],
   "source": []
  }
 ],
 "metadata": {
  "kernelspec": {
   "display_name": "Python 3",
   "language": "python",
   "name": "python3"
  },
  "language_info": {
   "codemirror_mode": {
    "name": "ipython",
    "version": 3
   },
   "file_extension": ".py",
   "mimetype": "text/x-python",
   "name": "python",
   "nbconvert_exporter": "python",
   "pygments_lexer": "ipython3",
   "version": "3.4.4"
  }
 },
 "nbformat": 4,
 "nbformat_minor": 0
}
